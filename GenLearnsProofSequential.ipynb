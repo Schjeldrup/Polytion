{
 "cells": [
  {
   "cell_type": "markdown",
   "metadata": {},
   "source": [
    "# Test learning capacity\n",
    "In this notebook we will test whether the generator structure can actually learn. Use a simple example from Pytorch.\n",
    "See [source](https://gist.github.com/santi-pdp/d0e9002afe74db04aa5bbff6d076e8fe).\n"
   ]
  },
  {
   "cell_type": "code",
   "execution_count": 1,
   "metadata": {},
   "outputs": [],
   "source": [
    "import torch\n",
    "import torch.nn as nn\n",
    "from torch.autograd import Variable\n",
    "\n",
    "import math\n",
    "import threading\n",
    "import logging\n",
    "log = logging.getLogger()\n",
    "log.setLevel(logging.CRITICAL)\n",
    "\n",
    "import matplotlib.pyplot as plt\n",
    "from os import system"
   ]
  },
  {
   "cell_type": "code",
   "execution_count": 2,
   "metadata": {},
   "outputs": [
    {
     "name": "stdout",
     "output_type": "stream",
     "text": [
      "torch.Size([500, 4])\n",
      "torch.Size([500, 1])\n"
     ]
    }
   ],
   "source": [
    "dims = 4\n",
    "samples = 250\n",
    "addit = 4\n",
    "X1 = torch.randn(samples, dims)\n",
    "X2 = torch.randn(samples, dims) + addit\n",
    "X = torch.cat([X1, X2], dim=0)\n",
    "Y1 = torch.zeros(samples, 1)\n",
    "Y2 = torch.ones(samples, 1)\n",
    "Y = torch.cat([Y1, Y2], dim=0)\n",
    "\n",
    "print(X.size())\n",
    "print(Y.size())"
   ]
  },
  {
   "cell_type": "code",
   "execution_count": 3,
   "metadata": {},
   "outputs": [
    {
     "data": {
      "image/png": "[encoded data removed]",
      "text/plain": [
       "<Figure size 432x288 with 1 Axes>"
      ]
     },
     "metadata": {
      "needs_background": "light"
     },
     "output_type": "display_data"
    }
   ],
   "source": [
    "\n",
    "plt.scatter(X1[:, 0], X1[:, 1], color='b')\n",
    "plt.scatter(X2[:, 0], X2[:, 1], color='r')\n",
    "plt.scatter(X[:, 0], X[:, 1], color='k', s=1);"
   ]
  },
  {
   "cell_type": "code",
   "execution_count": null,
   "metadata": {},
   "outputs": [],
   "source": [
    "Here the contents of the different classes are displayed:"
   ]
  },
  {
   "cell_type": "code",
   "execution_count": 4,
   "metadata": {},
   "outputs": [],
   "source": [
    "class FTT_Layer(torch.nn.Module):\n",
    "    def __init__(self, N, rank, imwidth, imheight, verbose = 0):\n",
    "        super(FTT_Layer, self).__init__()\n",
    "\n",
    "        # N = order of the polynomial = order of the tensor A:\n",
    "        # A is of dimension (s, s, ..., s) = (N x s)\n",
    "        # rank = rank used for the tensor cores\n",
    "        # size = length of the flattened input\n",
    "        self.N = N\n",
    "        self.rank = rank\n",
    "        self.s = imwidth * imheight\n",
    "        self.verbose = verbose\n",
    "\n",
    "        # Make a list of TTcore ranks, starting from r_0 = r_N = 1: perhaps feed it in as a list? isinstance(rank, list)\n",
    "        self.ranklist = [1, 1]\n",
    "        for n in range(self.N - 1):\n",
    "            self.ranklist.insert(-1, self.rank)\n",
    "\n",
    "        # Start by making the tensor train: store the matrices in one big parameterlist\n",
    "        self.TT = torch.nn.ParameterList()\n",
    "\n",
    "        # Make s instances for every mode of the tensor, or make a 3D tensor instead:\n",
    "        for n in range(self.N):\n",
    "            # Make tensors of size (r_{k-1}, n_{k} = self.s, r_{k})\n",
    "            TTcore = torch.empty(self.ranklist[n], self.s, self.ranklist[n+1])\n",
    "            torch.nn.init.xavier_normal_(TTcore)\n",
    "            #torch.nn.init.xavier_uniform_(TTcore)\n",
    "            TTcore /= self.s\n",
    "            self.TT.append(torch.nn.Parameter(TTcore))\n",
    "\n",
    "    def forward(self, z):\n",
    "        self.z = z.clone()\n",
    "\n",
    "        f = self.TT[0][0]\n",
    "        for k in range(1, self.N):\n",
    "            d1, d2 = self.ranklist[k], self.ranklist[k+1]\n",
    "            \n",
    "            extra = torch.matmul(self.z, self.TT[k].permute(1,0,2).reshape(self.s, d1*d2))\n",
    "            extra = extra.reshape(d1, d2)\n",
    "            f = torch.matmul(f, extra)\n",
    "            \n",
    "        out = f.reshape(-1)\n",
    "        return out\n"
   ]
  },
  {
   "cell_type": "code",
   "execution_count": 5,
   "metadata": {},
   "outputs": [],
   "source": [
    "class PolyNet(torch.nn.Module):\n",
    "    def __init__(self, layer, N, rank, imwidth, imheight):\n",
    "        super(PolyNet, self).__init__()\n",
    "\n",
    "        self.c = 1\n",
    "        self.imwidth, self.imheight = imwidth, imheight\n",
    "        self.s = imwidth*imheight\n",
    "        self.PolyLayer = layer(N, rank, imwidth, imheight, 0)\n",
    "        self.BN = nn.BatchNorm2d(num_features=1)\n",
    "        \n",
    "    def forward(self, x):\n",
    "        # Register dimensions:\n",
    "        xshape = x.shape\n",
    "        if len(xshape) == 2:\n",
    "            self.batch_size = 1\n",
    "        elif len(xshape) == 4:\n",
    "            self.batch_size = xshape[0]\n",
    "        else:\n",
    "            raise ValueError \n",
    "            \n",
    "        # Register x as attribute for parallel access, and clone because dataset would be overwritten\n",
    "        self.x = self.BN(x.clone())\n",
    "        self.x = self.x.reshape(self.batch_size, self.c, self.s) # flatten to the 1D equivalent vector\n",
    "        \n",
    "        for batch in range(self.batch_size):\n",
    "            self.x[batch, self.c-1, :] = self.PolyLayer(self.x[batch, self.c-1, :])\n",
    "        \n",
    "        self.x = self.x.reshape(self.batch_size, -1)\n",
    "        self.x = self.x.sum(1)\n",
    "        \n",
    "        return self.x\n"
   ]
  },
  {
   "cell_type": "code",
   "execution_count": 6,
   "metadata": {},
   "outputs": [],
   "source": [
    "import SequentialGenerator as g"
   ]
  },
  {
   "cell_type": "code",
   "execution_count": 7,
   "metadata": {},
   "outputs": [],
   "source": [
    "# Make the 'generator' network: in this case to be used as a feed forward network\n",
    "batch_size = 100\n",
    "N = 10\n",
    "rank = 30\n",
    "imwidth, imheight = int(dims/2), int(dims/2)\n",
    "\n",
    "#net = PolyNet(FTT_Layer, N, rank, imwidth, imheight)\n",
    "net = g.Generator(g.FTT_Layer, N, rank, imwidth, imheight)\n",
    "\n",
    "opt = torch.optim.Adam(net.parameters(), lr=0.005)\n",
    "\n",
    "criterion = nn.BCELoss()\n"
   ]
  },
  {
   "cell_type": "code",
   "execution_count": 8,
   "metadata": {},
   "outputs": [],
   "source": [
    "def train_epoch(model, opt, criterion, batch_size=50):\n",
    "    model.train()\n",
    "    losses = []\n",
    "    epochloss = 0\n",
    "    for beg_i in range(0, X.size(0), batch_size):\n",
    "        x_batch = X[beg_i:beg_i + batch_size, :].reshape(batch_size, 1, imwidth, imheight)\n",
    "        y_batch = Y[beg_i:beg_i + batch_size, :]\n",
    "\n",
    "        #x_batch = Variable(x_batch, requires_grad=True)\n",
    "        x_batch = Variable(x_batch)\n",
    "        y_batch = Variable(y_batch)\n",
    "        \n",
    "        opt.zero_grad()\n",
    "        # (1) Forward\n",
    "        y_hat = net(x_batch)\n",
    "        # Reformat output of the network when using the .py file (output is not formatted for binary classification:\n",
    "        y_hat = y_hat.reshape(batch_size, -1)\n",
    "        y_hat = y_hat.sum(1)\n",
    "        y_hat = torch.sigmoid(y_hat)\n",
    "        y_batch = y_batch[:, 0]\n",
    "        \n",
    "        # (2) Compute diff\n",
    "        loss = criterion(y_hat, y_batch)\n",
    "        # (3) Compute gradients\n",
    "        loss.backward()\n",
    "        # (4) update weights\n",
    "        opt.step()        \n",
    "        epochloss += loss.detach().numpy()\n",
    "        losses.append(loss.detach().numpy())\n",
    "    return epochloss"
   ]
  },
  {
   "cell_type": "code",
   "execution_count": 9,
   "metadata": {},
   "outputs": [
    {
     "name": "stdout",
     "output_type": "stream",
     "text": [
      "epoch 100\r"
     ]
    },
    {
     "data": {
      "image/png": "[encoded data removed]",
      "text/plain": [
       "<Figure size 432x288 with 1 Axes>"
      ]
     },
     "metadata": {
      "needs_background": "light"
     },
     "output_type": "display_data"
    }
   ],
   "source": [
    "e_losses = []\n",
    "num_epochs = 100\n",
    "for e in range(num_epochs):\n",
    "    print(\"epoch\", e+1, end='\\r')\n",
    "    e_losses.append(train_epoch(net, opt, criterion, batch_size))\n",
    "\n",
    "plt.plot(e_losses);\n",
    "\n",
    "system('say complete');"
   ]
  },
  {
   "cell_type": "code",
   "execution_count": 10,
   "metadata": {},
   "outputs": [
    {
     "name": "stdout",
     "output_type": "stream",
     "text": [
      "Accuracy score:  94.0\n"
     ]
    },
    {
     "data": {
      "image/png": "[encoded data removed]",
      "text/plain": [
       "<Figure size 1080x360 with 3 Axes>"
      ]
     },
     "metadata": {
      "needs_background": "light"
     },
     "output_type": "display_data"
    }
   ],
   "source": [
    "# Test it out\n",
    "X_1 = torch.randn(samples, dims)\n",
    "X_2 = torch.randn(samples, dims) + addit\n",
    "X_t = torch.cat([X_1, X_2], dim=0)\n",
    "\n",
    "Y1 = torch.zeros(samples)\n",
    "Y2 = torch.ones(samples)\n",
    "true = torch.cat([Y1, Y2], dim=0)\n",
    "\n",
    "\n",
    "net.eval()\n",
    "results = torch.zeros(X_t.shape[0])\n",
    "for beg_i in range(0, X_t.size(0), batch_size):\n",
    "    x_batch = X_t[beg_i:beg_i + batch_size, :].reshape(batch_size, 1, imwidth, imheight)\n",
    "    results[beg_i:beg_i + batch_size] = net(x_batch).reshape(batch_size, -1).sum(1)\n",
    "\n",
    "results = torch.round(torch.sigmoid(results))\n",
    "\n",
    "X1_t = torch.where(results == 0)[0]\n",
    "X2_t = torch.where(results == 1)[0]\n",
    "\n",
    "correct_results_sum = (results == true).sum().float()\n",
    "acc = correct_results_sum/true.shape[0]\n",
    "acc = torch.round(acc * 100)\n",
    "print(\"Accuracy score: \", acc.item())\n",
    "\n",
    "Xd = X_t.detach().numpy()\n",
    "\n",
    "fig, ax = plt.subplots(1, 3, figsize=(15,5))\n",
    "ax[0].scatter(Xd[X1_t, 0], Xd[X1_t, 1], color='b')\n",
    "ax[0].scatter(Xd[X2_t, 0], Xd[X2_t, 1], color='r')\n",
    "ax[0].scatter(Xd[:, 0], Xd[:, 1], color='k', s=1)\n",
    "\n",
    "ax[1].scatter(Xd[X1_t, 1], Xd[X1_t, 2], color='b')\n",
    "ax[1].scatter(Xd[X2_t, 1], Xd[X2_t, 2], color='r')\n",
    "ax[1].scatter(Xd[:, 1], Xd[:, 2], color='k', s=1)\n",
    "\n",
    "ax[2].scatter(Xd[X1_t, 2], Xd[X1_t, 3], color='b')\n",
    "ax[2].scatter(Xd[X2_t, 2], Xd[X2_t, 3], color='r')\n",
    "ax[2].scatter(Xd[:, 2], Xd[:, 3], color='k', s=1);\n",
    "\n"
   ]
  },
  {
   "cell_type": "markdown",
   "metadata": {},
   "source": [
    "# Can we do better?\n",
    "Perform a grid search:\n"
   ]
  },
  {
   "cell_type": "code",
   "execution_count": 11,
   "metadata": {},
   "outputs": [],
   "source": [
    "\n",
    "learning_rates = torch.logspace(-3, 0, 10)\n",
    "batch_sizes = [50, 100, 250]\n",
    "Ns = [i for i in range(3, 10)]\n",
    "ranks = [2*i for i in range(2, 10)]\n",
    "\n",
    "bestvals = {'N':0, 'rank':0, 'lr':0, 'BestLoss':100} \n",
    "\n",
    "for N in Ns:\n",
    "    # safety pin: \n",
    "    break\n",
    "    print(\"N =\", N, end ='\\r')\n",
    "    for rank in ranks:\n",
    "        print(\"rank =\", rank, end ='\\r')\n",
    "        for learning_rate in learning_rates:\n",
    "            print(\"learning_rate =\", learning_rate.item(), end ='\\r')\n",
    "\n",
    "            net = PolyNet(FTT_Layer, N, rank, imwidth, imheight)\n",
    "            opt = torch.optim.Adam(net.parameters(), lr=learning_rate.item())\n",
    "\n",
    "            #train:\n",
    "            e_losses = []\n",
    "            num_epochs = 50\n",
    "            for e in range(num_epochs):\n",
    "                print('{0: <6}'.format('N = ' + str(N).zfill(2)), '{0: <6}'.format('rank = ' + str(rank).zfill(2)), '{0:25}'.format('learning_rate = ' + str(round(learning_rate.item(), 5))), '{0: <7}'.format('epoch = ' + str(e+1).zfill(2)), end='\\r')\n",
    "                #print(\"epoch\", e+1, end='\\r')\n",
    "                try:\n",
    "                    epoch = train_epoch(net, opt, criterion, batch_size)\n",
    "                    e_losses.append(train_epoch(net, opt, criterion, batch_size))\n",
    "                except KeyboardInterrupt:\n",
    "                    raise\n",
    "                except:\n",
    "                    print(\"\\n Epoch\", e, \"failed\")\n",
    "                    \n",
    "            # Extract best losses:\n",
    "            mid = int(num_epochs/2)\n",
    "            if sum(e_losses[0:mid])/len(e_losses[0:mid]) < sum(e_losses[mid:-1])/len(e_losses[mid:-1]):\n",
    "                # Then the loss did not decrease\n",
    "                continue\n",
    "            if e_losses[-1] < bestvals['BestLoss']:\n",
    "                print(\"\\n Found a loss of\", e_losses[-1])\n",
    "                bestvals['N'] = N\n",
    "                bestvals['rank'] = rank\n",
    "                bestvals['lr'] = learning_rate\n",
    "                bestvals['BestLoss'] = e_losses[-1]\n",
    "\n",
    "system('say grid search complete');\n"
   ]
  }
 ],
 "metadata": {
  "kernelspec": {
   "display_name": "Python 3",
   "language": "python",
   "name": "python3"
  },
  "language_info": {
   "codemirror_mode": {
    "name": "ipython",
    "version": 3
   },
   "file_extension": ".py",
   "mimetype": "text/x-python",
   "name": "python",
   "nbconvert_exporter": "python",
   "pygments_lexer": "ipython3",
   "version": "3.7.3"
  }
 },
 "nbformat": 4,
 "nbformat_minor": 2
}
