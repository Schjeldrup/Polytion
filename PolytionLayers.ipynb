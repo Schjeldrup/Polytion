{
 "cells": [
  {
   "cell_type": "markdown",
   "metadata": {},
   "source": [
    "# PolyGAN layers\n",
    "This notebook contains the different polynomial approximation layers for us in the generator structure"
   ]
  },
  {
   "cell_type": "code",
   "execution_count": 1,
   "metadata": {},
   "outputs": [],
   "source": [
    "import torch\n",
    "import skimage"
   ]
  },
  {
   "cell_type": "code",
   "execution_count": 29,
   "metadata": {},
   "outputs": [],
   "source": [
    "# Save the desired order and rank of the following algorithms here:\n",
    "N = 5\n",
    "rank = 4\n",
    "\n",
    "# Save a standard set of inputs\n",
    "imwidth, imheight = 512, 512\n",
    "high_res_sample = torch.rand(imwidth,imwidth).float()\n",
    "low_res_sample  = torch.rand(int(imwidth/4), int(imwidth/4)).float()"
   ]
  },
  {
   "cell_type": "markdown",
   "metadata": {},
   "source": [
    "## PolyGAN TT decomposition\n",
    "Here we implement the basic TT for the polyGAN polynomial approximation, Eq (4)"
   ]
  },
  {
   "cell_type": "code",
   "execution_count": 31,
   "metadata": {},
   "outputs": [],
   "source": [
    "class PolyGAN_TT_Layer(torch.nn.Module):\n",
    "    def __init__(self, N, rank, imwidth, imheight, verbose = 0):\n",
    "        super(PolyGAN_TT_Layer, self).__init__()\n",
    "        \n",
    "        # N = order of the polynomial = order of the tensor A:\n",
    "        # A is of dimension (s, s, ..., s) = (N x s)\n",
    "        # rank = rank used for the tensor cores\n",
    "        # size = length of the flattened input\n",
    "        self.N = N\n",
    "        self.rank = rank\n",
    "        self.s = imwidth * imheight\n",
    "        \n",
    "        # bias and weights\n",
    "        b = torch.empty(self.s)\n",
    "        torch.nn.init.xavier_normal_(b)\n",
    "        self.b = torch.nn.Parameter(b)\n",
    "        \n",
    "        self.W = torch.nn.ParameterList()\n",
    "        \n",
    "    \n",
    "    def forward(self, z):\n",
    "        # Compute the forward pass: the nmode multiplications f = self.b + self.b + self.W[0]*z + z.T*...\n",
    "       \n",
    "        return z\n",
    "    "
   ]
  },
  {
   "cell_type": "markdown",
   "metadata": {},
   "source": [
    "## Fast Tensor-train contraction\n",
    "See \"Parallelized Tensor Train Learning of Polynomial\n",
    "Classifiers\". Eq (8), (10), (11) and algorithm 1."
   ]
  },
  {
   "cell_type": "markdown",
   "metadata": {},
   "source": [
    "The result is given by\n",
    "\\begin{align*}\n",
    "\\mathcal{G_1} (i_1) \\cdot \\prod_{k=2}^{n+1} \\left(\\sum_{i_k = 1}^{s} z_{i_k} \\cdot \\mathcal{G_k}(i_k) \\right)\n",
    "\\end{align*}\n",
    "with $\\boldsymbol{z} \\in \\mathcal{R}^{s}$"
   ]
  },
  {
   "cell_type": "code",
   "execution_count": 53,
   "metadata": {},
   "outputs": [],
   "source": [
    "import threading\n",
    "\n",
    "class FTT_Layer(torch.nn.Module):\n",
    "    def __init__(self, N, rank, imwidth, imheight, verbose = 0):\n",
    "        super(FTT_Layer, self).__init__()\n",
    "        \n",
    "        # N = order of the polynomial = order of the tensor A:\n",
    "        # A is of dimension (s, s, ..., s) = (N x s)\n",
    "        # rank = rank used for the tensor cores\n",
    "        # size = length of the flattened input\n",
    "        self.N = N\n",
    "        self.rank = rank\n",
    "        self.s = imwidth * imheight\n",
    "        self.verbose = verbose\n",
    "        \n",
    "        # Make a list of TTcore ranks, starting from r_0 = r_N = 1: perhaps feed it in as a list? isinstance(rank, list)\n",
    "        self.ranklist = [1, 1]\n",
    "        for n in range(self.N - 1):\n",
    "            self.ranklist.insert(-1, self.rank)\n",
    "        \n",
    "        # Start by making the tensor train: store the matrices in one big parameterlist\n",
    "        self.TT = torch.nn.ParameterList()\n",
    "        \n",
    "        # Make s instances for every mode of the tensor, or make a 3D tensor instead:\n",
    "        for n in range(self.N):\n",
    "            # Make tensors of size (r_{k-1}, n_{k} = self.s, r_{k})\n",
    "            TTcore = torch.empty(self.ranklist[n], self.s, self.ranklist[n+1])\n",
    "            torch.nn.init.xavier_normal_(TTcore)\n",
    "            self.TT.append(torch.nn.Parameter(TTcore))\n",
    "                        \n",
    "        if self.verbose != 0:\n",
    "            print(\"self.ranklist =\", self.ranklist)\n",
    "            print(\"self.N =\", self.N, \"+ 1 ?=\", len(self.ranklist), \"= len(self.ranklist)\") \n",
    "            print(\"TT has\", len(self.TT), \"elements:\")\n",
    "            for i, tt in enumerate(self.TT):\n",
    "                print(\"element\", i, \":\", w.shape)\n",
    "    \n",
    "    def test(self):\n",
    "        # The multiplication z_i * G_k(i) is really [1] * [rank, rank] (or for last cart [1] * [rank, 1] )\n",
    "        # Here we test whether the vectorized multiplication yields the same result. Warning: this is slow!\n",
    "        k = 1\n",
    "        # According to the algorithm:\n",
    "        summation = 0\n",
    "        for i in range(self.s):\n",
    "            summation += self.z[i] * self.TT[k][:,i,:]\n",
    "        \n",
    "        # Naive fast implmentation is: self.V[k] = self.z @ self.TT[k]. Does not yield same results.\n",
    "        # Instead, permute the axes of the train cart from [rank, s, rank] to [s, rank**2] (or [s, rank*1])\n",
    "        perm = self.TT[k].permute(1,0,2).reshape(self.s,-1)\n",
    "        product = torch.matmul(self.z, perm).reshape(self.ranklist[k], self.ranklist[k+1])\n",
    "        \n",
    "        # Assert whether they are the same:\n",
    "        print(\"Are the two methods equivalent?\", torch.allclose(summation, product, rtol = 1e-03, atol = 1e-03))\n",
    "        return\n",
    "    \n",
    "    def parallelVecProd(self, k):\n",
    "        d1, d2 = self.ranklist[k], self.ranklist[k+1]\n",
    "        self.V[k] = torch.matmul(self.z, self.TT[k].permute(1,0,2).reshape(self.s, d1*d2))\n",
    "        self.V[k] = self.V[k].reshape(d1, d2)\n",
    "        return\n",
    "    \n",
    "    def forward(self, z):\n",
    "        # Compute the forward pass: the nmode multiplications f = A x1 z x2 z x3 ··· x(N-1) z\n",
    "        # Follow algorithm 1: allocate space and compute each V^(k), possible in parallel with threads.\n",
    "        # V^(0) will not be used as it is unnecessary to compute it, it's just self.TT[0][0,:,:] \n",
    "        self.V = [None] * self.N\n",
    "        self.z = z\n",
    "        threads = []\n",
    "        \n",
    "        if self.verbose != 0:\n",
    "            print(\"Threads are computing..\")\n",
    "            self.test()\n",
    "            \n",
    "        for k in range(1, self.N):\n",
    "            # Perform parallel computation of the products: tremendous speedup. See test() for more info.\n",
    "            process = threading.Thread(target=self.parallelVecProd, args=(k,))\n",
    "            process.start()\n",
    "            threads.append(process)\n",
    "            \n",
    "        # Start the whole product chain now, so that we have [(1),s,r] x [r, r] x ... x [r, (1)] = s\n",
    "        f = self.TT[0][0,:,:] \n",
    "        for k in range(1, self.N):\n",
    "            threads[k-1].join()\n",
    "            f @= self.V[k]\n",
    "        return f.reshape(-1)\n",
    "    "
   ]
  },
  {
   "cell_type": "markdown",
   "metadata": {},
   "source": [
    "## PolyGAN CP decomposition\n",
    "Here we implement the basic CP for the polyGAN polynomial approximation, Eq (4)"
   ]
  },
  {
   "cell_type": "markdown",
   "metadata": {},
   "source": [
    "The result is given by\n",
    "\\begin{align*}\n",
    "G(z)&=\\sum_{n=1}^{N}\\left(\\mathcal{W}^{[n]} \\prod_{k=2}^{n+1} \\times_{k} z\\right)+\\boldsymbol{\\beta} \\\\\n",
    "&=\\sum_{n=1}^{N}\\left( \\sum_{r=1}^R \\alpha^{[1]}_{i_1, r} \\cdot \\prod_{k=2}^{n+1} \\left(\\sum_{i_k = 1}^{s} z_{i_k} \\cdot \\alpha^{[k]}_{i_k, r} \\right) \\right)+\\boldsymbol{\\beta}\n",
    "\\end{align*}\n",
    "with $\\boldsymbol{z} \\in \\mathcal{R}^{s}$"
   ]
  },
  {
   "cell_type": "code",
   "execution_count": 166,
   "metadata": {},
   "outputs": [],
   "source": [
    "import logging\n",
    "#logging.basicConfig(format='%(levelname)s:%(message)s', level=logging.DEBUG)\n",
    "#logging.getLogger().setLevel(logging.INFO)\n",
    "logging.basicConfig(format='%(levelname)s:%(message)s',level=logging.DEBUG)\n",
    "class PolyGAN_CP_Layer(torch.nn.Module):\n",
    "    def __init__(self, N, rank, imwidth, imheight, verbose = 0):\n",
    "        super(PolyGAN_CP_Layer, self).__init__()\n",
    "        \n",
    "        # N = order of the polynomial = order of the tensor A:\n",
    "        # A is of dimension (s, s, ..., s) = (N x s)\n",
    "        # rank = rank used for the tensor cores\n",
    "        # size = length of the flattened input\n",
    "        self.N = N\n",
    "        self.rank = rank\n",
    "        self.s = imwidth * imheight\n",
    "        self.verbose = verbose\n",
    "        \n",
    "        # bias and weights\n",
    "        b = torch.empty(self.s,1)\n",
    "        torch.nn.init.xavier_normal_(b)\n",
    "        self.b = torch.nn.Parameter(b.reshape(self.s))\n",
    "        \n",
    "        self.W = torch.nn.ParameterList()\n",
    "        self.shapelist = []\n",
    "        # 0th order: bias [s], 1st order: weight [s, s], 2nd order: weight [s, s, s], ...\n",
    "        for n in range(1, N + 1):\n",
    "            tshape = [self.s]*(n + 1)\n",
    "            self.shapelist.append(tshape)\n",
    "                        \n",
    "            # Here we allocate all the factor matrices (using CP):\n",
    "            for o in range(n + 1):\n",
    "                # We need one factor matrix per dimension of the weight matrix of that order.\n",
    "                # So 3rd order [d, d, d] has 3 factor matrices of shape [d, rank]\n",
    "                factor_matrix = torch.zeros((self.s, self.rank))\n",
    "                torch.nn.init.xavier_normal_(factor_matrix)\n",
    "                self.W.append(torch.nn.Parameter(factor_matrix))\n",
    "        \n",
    "        if self.verbose != 0:\n",
    "            print(\"self.shapelist =\")\n",
    "            for shape in self.shapelist:\n",
    "                print(shape)\n",
    "            print(\"self.N =\", self.N, \"?=\", len(self.shapelist), \"= len(self.shapelist)\") \n",
    "            print(\"W has\", len(self.W), \"elements of shape\", self.W[0].shape)\n",
    "            \n",
    "            \n",
    "    def parallelVecProd(self, k, r, V):\n",
    "        V[k-1] = torch.dot(self.z, self.W[k][:,r])\n",
    "        return\n",
    "                                       \n",
    "    def parallelScalarProd(self, n, r):\n",
    "        threads = []\n",
    "        V = torch.zeros(n)\n",
    "        for k in range(1, n):\n",
    "            # Perform parallel computation of the products: tremendous speedup.\n",
    "            process = threading.Thread(target=self.parallelVecProd, args=(k, r, V,))\n",
    "            process.start()\n",
    "            threads.append(process) \n",
    "            \n",
    "        f = 1\n",
    "        for k in range(1, n):\n",
    "            threads[k-1].join()\n",
    "            f *= V[k-1]\n",
    "        self.VecProds[n*self.rank + r] = f\n",
    "        if self.verbose != 0:\n",
    "            logging.info(' f = %f, is an integer', f)\n",
    "        return\n",
    "    \n",
    "    def parallelRankSum(self, n):\n",
    "        threads = []\n",
    "        for r in range(self.rank):\n",
    "            # Perform parallel computation of the products: tremendous speedup.\n",
    "            process = threading.Thread(target=self.parallelScalarProd, args=(n, r,))\n",
    "            process.start()\n",
    "            threads.append(process)  \n",
    "            \n",
    "        Rsum = torch.zeros(self.s)\n",
    "        for r in range(self.rank):\n",
    "            threads[r].join()\n",
    "            Rsum += self.W[0][:,r] * self.VecProds[n*self.rank + r]\n",
    "        self.Rsums[n] = Rsum\n",
    "        if self.verbose != 0:\n",
    "            shapes = list(self.Rsums[n].shape)\n",
    "            logging.info(' Size of Rsum[%d] = %d', n, shapes[0])\n",
    "        return \n",
    "        \n",
    "    def forward(self, z):\n",
    "        # Compute the forward pass: the nmode multiplications f = self.b + self.b + self.W[0]*z + z.T*...\n",
    "        # We can also compute every rank computation in parallel and sum results.\n",
    "        # For every n, spawn a thread to compute one part of the Nsum, so Nsum = sum(Rsums).\n",
    "        # For every r, spawn a thread to compute one part of the Rsum, so Rsum = sum(a^1*VecProds)\n",
    "        self.z = z\n",
    "        threads = []\n",
    "        self.Rsums = [None]*self.N\n",
    "        self.VecProds = [None]*self.rank*self.N\n",
    "        for n in range(self.N):\n",
    "            # Perform parallel computation of the rank summation: tremendous speedup.\n",
    "            process = threading.Thread(target=self.parallelRankSum, args=(n,))\n",
    "            process.start()\n",
    "            threads.append(process)\n",
    "        \n",
    "        Nsum = torch.zeros(self.s)\n",
    "        for n in range(self.N):\n",
    "            threads[n].join()\n",
    "            Nsum += self.Rsums[n]\n",
    "            \n",
    "        return Nsum + self.b\n",
    "    "
   ]
  },
  {
   "cell_type": "markdown",
   "metadata": {},
   "source": [
    "## Plug and play\n",
    "Test the different layers in a standard net"
   ]
  },
  {
   "cell_type": "code",
   "execution_count": 167,
   "metadata": {
    "scrolled": false
   },
   "outputs": [
    {
     "name": "stderr",
     "output_type": "stream",
     "text": [
      "INFO:root: f = 1.000000, is an integer\n",
      "INFO:root: f = 1.000000, is an integer\n",
      "INFO:root: f = 1.000000, is an integer\n",
      "INFO:root: f = 1.000000, is an integer\n",
      "INFO:root: f = 1.000000, is an integer\n",
      "INFO:root: f = 1.000000, is an integer\n",
      "INFO:root: f = 1.000000, is an integer\n",
      "INFO:root: f = 0.105871, is an integer\n",
      "INFO:root: Size of Rsum[0] = 262144\n",
      "INFO:root: f = 1.262669, is an integer\n",
      "INFO:root: f = 0.145063, is an integer\n",
      "INFO:root: f = 0.819182, is an integer\n",
      "INFO:root: f = -0.681233, is an integer\n",
      "INFO:root: f = -0.226966, is an integer\n",
      "INFO:root: f = 0.487541, is an integer\n",
      "INFO:root: f = -0.059248, is an integer\n",
      "INFO:root: f = 0.205013, is an integer\n",
      "INFO:root: f = 0.286797, is an integer\n",
      "INFO:root: f = -0.614972, is an integer\n",
      "INFO:root: f = -0.081088, is an integer\n",
      "INFO:root: f = 1.000000, is an integer\n",
      "INFO:root: Size of Rsum[2] = 262144\n",
      "INFO:root: Size of Rsum[1] = 262144\n",
      "INFO:root: Size of Rsum[4] = 262144\n",
      "INFO:root: Size of Rsum[3] = 262144\n"
     ]
    },
    {
     "name": "stdout",
     "output_type": "stream",
     "text": [
      "self.shapelist =\n",
      "[262144, 262144]\n",
      "[262144, 262144, 262144]\n",
      "[262144, 262144, 262144, 262144]\n",
      "[262144, 262144, 262144, 262144, 262144]\n",
      "[262144, 262144, 262144, 262144, 262144, 262144]\n",
      "self.N = 5 ?= 5 = len(self.shapelist)\n",
      "W has 20 elements of shape torch.Size([262144, 4])\n",
      "\n",
      "output has shape torch.Size([512, 512])\n"
     ]
    }
   ],
   "source": [
    "# define testnetwork\n",
    "class Generator(torch.nn.Module):\n",
    "    def __init__(self, layer, N, rank, imwidth, imheight):\n",
    "        super(Generator, self).__init__()\n",
    "        \n",
    "        self.imwidth, self.imheight = imwidth, imheight\n",
    "        self.s = imwidth*imheight\n",
    "        self.PolyLayer = layer(N, rank, imwidth, imheight, 1)\n",
    "    \n",
    "    def forward(self, x): \n",
    "        # UserWarning: Bi-quadratic interpolation behavior has changed due to a bug in the implementation of scikit-image\n",
    "        # Perhaps another bilinear interpolation method?\n",
    "        x = skimage.transform.resize(x, (self.imwidth, self.imheight), order=1, anti_aliasing=True)\n",
    "        x = torch.tensor(x).float() # make tensor, no need for the very high precision\n",
    "        x = x.reshape(self.s) # flatten to the 1D equivalent vector\n",
    "        \n",
    "        x = self.PolyLayer(x)\n",
    "        x = x.reshape(self.imwidth, self.imheight)\n",
    "        return x\n",
    "\n",
    "#net = Generator(FTT_Layer, N, rank, imwidth, imheight)\n",
    "net = Generator(PolyGAN_CP_Layer, N, rank, imwidth, imheight)\n",
    "\n",
    "output = net(low_res_sample)\n",
    "print(\"\\noutput has shape\", output.shape)"
   ]
  },
  {
   "cell_type": "code",
   "execution_count": 7,
   "metadata": {},
   "outputs": [
    {
     "name": "stderr",
     "output_type": "stream",
     "text": [
      "\r",
      "  0%|          | 0/10 [00:00<?, ?it/s]"
     ]
    },
    {
     "name": "stdout",
     "output_type": "stream",
     "text": [
      "Threads are computing..\n",
      "numthreads =  2\n",
      "self.V[k].shape = torch.Size([2, 2])\n",
      "torch.Size([2, 2])\n",
      "self.V[k].shape = torch.Size([2, 1])\n",
      "torch.Size([2, 1])\n",
      "f has shape torch.Size([262144, 1])\n"
     ]
    },
    {
     "name": "stderr",
     "output_type": "stream",
     "text": [
      " 40%|████      | 4/10 [00:00<00:00,  6.61it/s]"
     ]
    },
    {
     "name": "stdout",
     "output_type": "stream",
     "text": [
      "Threads are computing..\n",
      "numthreads =  2\n",
      "self.V[k].shape = torch.Size([2, 2])\n",
      "torch.Size([2, 2])\n",
      "self.V[k].shape = torch.Size([2, 1])\n",
      "torch.Size([2, 1])\n",
      "f has shape torch.Size([262144, 1])\n",
      "Threads are computing..\n",
      "numthreads =  2\n",
      "self.V[k].shape = torch.Size([2, 2])\n",
      "torch.Size([2, 2])\n",
      "self.V[k].shape = torch.Size([2, 1])\n",
      "torch.Size([2, 1])\n",
      "f has shape torch.Size([262144, 1])\n",
      "Threads are computing..\n",
      "numthreads =  2\n",
      "self.V[k].shape = torch.Size([2, 2])\n",
      "torch.Size([2, 2])\n",
      "self.V[k].shape = torch.Size([2, 1])\n",
      "torch.Size([2, 1])\n",
      "f has shape torch.Size([262144, 1])\n"
     ]
    },
    {
     "name": "stderr",
     "output_type": "stream",
     "text": [
      "\r",
      " 60%|██████    | 6/10 [00:00<00:00,  7.92it/s]"
     ]
    },
    {
     "name": "stdout",
     "output_type": "stream",
     "text": [
      "Threads are computing..\n",
      "numthreads =  2\n",
      "self.V[k].shape = torch.Size([2, 2])\n",
      "torch.Size([2, 2])\n",
      "self.V[k].shape = torch.Size([2, 1])\n",
      "torch.Size([2, 1])\n",
      "f has shape torch.Size([262144, 1])\n",
      "Threads are computing..\n",
      "numthreads =  2\n",
      "self.V[k].shape = torch.Size([2, 2])\n",
      "torch.Size([2, 2])\n",
      "self.V[k].shape = torch.Size([2, 1])\n",
      "torch.Size([2, 1])\n",
      "f has shape torch.Size([262144, 1])\n",
      "Threads are computing..\n",
      "numthreads =  2\n",
      "self.V[k].shape = torch.Size([2, 2])\n",
      "torch.Size([2, 2])\n",
      "self.V[k].shape = torch.Size([2, 1])\n",
      "torch.Size([2, 1])\n",
      "f has shape torch.Size([262144, 1])\n"
     ]
    },
    {
     "name": "stderr",
     "output_type": "stream",
     "text": [
      " 80%|████████  | 8/10 [00:00<00:00,  7.50it/s]"
     ]
    },
    {
     "name": "stdout",
     "output_type": "stream",
     "text": [
      "Threads are computing..\n",
      "numthreads =  2\n",
      "self.V[k].shape = torch.Size([2, 2])\n",
      "torch.Size([2, 2])\n",
      "self.V[k].shape = torch.Size([2, 1])\n",
      "torch.Size([2, 1])\n",
      "f has shape torch.Size([262144, 1])\n",
      "Threads are computing..\n",
      "numthreads =  2\n",
      "self.V[k].shape = torch.Size([2, 2])\n",
      "torch.Size([2, 2])\n",
      "self.V[k].shape = torch.Size([2, 1])\n",
      "torch.Size([2, 1])\n",
      "f has shape torch.Size([262144, 1])\n"
     ]
    },
    {
     "name": "stderr",
     "output_type": "stream",
     "text": [
      "100%|██████████| 10/10 [00:01<00:00,  8.06it/s]"
     ]
    },
    {
     "name": "stdout",
     "output_type": "stream",
     "text": [
      "Threads are computing..\n",
      "numthreads =  2\n",
      "self.V[k].shape = torch.Size([2, 2])\n",
      "torch.Size([2, 2])\n",
      "self.V[k].shape = torch.Size([2, 1])\n",
      "torch.Size([2, 1])\n",
      "f has shape torch.Size([262144, 1])\n"
     ]
    },
    {
     "name": "stderr",
     "output_type": "stream",
     "text": [
      "\n"
     ]
    }
   ],
   "source": [
    "# Time the learning process:\n",
    "import time\n",
    "from tqdm import tqdm\n",
    "\n",
    "criterion = torch.nn.MSELoss(reduction='sum')\n",
    "optimizer = torch.optim.Adam(net.parameters(), lr=1e-3)\n",
    "loops = 10\n",
    "\n",
    "net.train()\n",
    "\n",
    "pred_timer = []\n",
    "crit_timer = []\n",
    "optm_timer = []\n",
    "loss_timer = []\n",
    "step_timer = []\n",
    "\n",
    "start = time.time()\n",
    "\n",
    "for t in tqdm(range(loops)):\n",
    "    # Forward pass: Compute predicted y by passing x to the model\n",
    "    pred_start = time.time()\n",
    "    pred = net(low_res_sample)\n",
    "    pred_timer.append(time.time() - pred_start)\n",
    "    \n",
    "    crit_start = time.time()\n",
    "    loss = criterion(pred, high_res_sample)\n",
    "    crit_timer.append(time.time() - crit_start)\n",
    "    \n",
    "    optm_start = time.time()\n",
    "    optimizer.zero_grad()\n",
    "    optm_timer.append(time.time() - optm_start)\n",
    "    \n",
    "    loss_start = time.time()\n",
    "    loss.backward()\n",
    "    loss_timer.append(time.time() - loss_start)\n",
    "    \n",
    "    step_start = time.time()\n",
    "    optimizer.step()\n",
    "    step_timer.append(time.time() - step_start)\n",
    "\n",
    "total_elapsed = time.time() - start\n",
    "elapsed_per_loop = float(total_elapsed/loops)\n"
   ]
  },
  {
   "cell_type": "code",
   "execution_count": 8,
   "metadata": {},
   "outputs": [
    {
     "name": "stdout",
     "output_type": "stream",
     "text": [
      "Total elapsed time = 1.1321349143981934 s, with 0.11321349143981933 s per loop\n",
      "pred_timer = 0.04306297302246094 s on average\n",
      "crit_timer = 0.0021602630615234373 s on average\n",
      "optm_timer = 0.001762986183166504 s on average\n",
      "loss_timer = 0.03444163799285889 s on average\n",
      "step_timer = 0.027282094955444335 s on average\n"
     ]
    }
   ],
   "source": [
    "mean = lambda x : sum(x)/len(x)\n",
    "\n",
    "print(\"Total elapsed time =\", total_elapsed, \"s, with\", elapsed_per_loop, \"s per loop\")\n",
    "print(\"pred_timer =\", mean(pred_timer), \"s on average\")\n",
    "print(\"crit_timer =\", mean(crit_timer), \"s on average\")\n",
    "print(\"optm_timer =\", mean(optm_timer), \"s on average\")\n",
    "print(\"loss_timer =\", mean(loss_timer), \"s on average\")\n",
    "print(\"step_timer =\", mean(step_timer), \"s on average\")\n"
   ]
  }
 ],
 "metadata": {
  "kernelspec": {
   "display_name": "Python 3",
   "language": "python",
   "name": "python3"
  },
  "language_info": {
   "codemirror_mode": {
    "name": "ipython",
    "version": 3
   },
   "file_extension": ".py",
   "mimetype": "text/x-python",
   "name": "python",
   "nbconvert_exporter": "python",
   "pygments_lexer": "ipython3",
   "version": "3.7.3"
  }
 },
 "nbformat": 4,
 "nbformat_minor": 2
}
