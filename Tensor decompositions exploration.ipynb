{
 "cells": [
  {
   "cell_type": "markdown",
   "metadata": {},
   "source": [
    "# Exploring tensor decompositions in pyTorch\n",
    "Simon Aertssen\n",
    "12/03/2020"
   ]
  },
  {
   "cell_type": "code",
   "execution_count": 14,
   "metadata": {},
   "outputs": [
    {
     "name": "stdout",
     "output_type": "stream",
     "text": [
      "3.7.3 (default, Mar 27 2019, 16:54:48) \n",
      "[Clang 4.0.1 (tags/RELEASE_401/final)]\n"
     ]
    }
   ],
   "source": [
    "import torch\n",
    "import sys\n",
    "print(sys.version)"
   ]
  },
  {
   "cell_type": "markdown",
   "metadata": {},
   "source": [
    "## 1. Useful functions and products:\n"
   ]
  },
  {
   "cell_type": "markdown",
   "metadata": {},
   "source": [
    "The $\\textbf{Matrix Kronecker product}$ is defined as\n",
    "\n",
    "\\begin{align*} \\boldsymbol{P}^{\\:\\mathrm{I} \\times \\mathrm{J}} \\otimes \\boldsymbol{Q}^{\\:\\mathrm{K} \\times \\mathrm{L}}=\\boldsymbol{R}^{\\:\\mathrm{IK} \\times \\mathrm{JL}}, \\text { such that } r_{k+K(i-1), \\: l+L(j-1)}=p_{i j} q_{k l} \\end{align*}\n",
    "\n",
    "Naive: use loops. Smart: reshape P and Q so that their dimensions do not overlap, then the elementwise or Hadamard product gives the desired result.\n",
    "\n",
    "See [Wikipedia](https://en.wikipedia.org/wiki/Kronecker_product) for the examples.\n"
   ]
  },
  {
   "cell_type": "code",
   "execution_count": 139,
   "metadata": {},
   "outputs": [],
   "source": [
    "def KronProd2D(P, Q):\n",
    "    # Register dimensions.\n",
    "    I, J = P.shape\n",
    "    K, L = Q.shape\n",
    "    \n",
    "    # Adjust dimensions of P and Q to perform smart multiplication:\n",
    "    # interweave the dimensions containing values and perform elementwise multiplication.\n",
    "    P = P.view(I, 1, J, 1)\n",
    "    Q = Q.view(1, K, 1, L)\n",
    "    \n",
    "    R = P * Q\n",
    "    return R.view(I*K, J*L)\n",
    "\n",
    "def KronProd(P, Q):\n",
    "    # This should work for higher order tensors.\n",
    "    # Register and check dimensions.\n",
    "    pshape = P.shape\n",
    "    qshape = Q.shape\n",
    "    if len(pshape) != len(qshape):\n",
    "        raise ValueError('Matrices should be of the same order: ' + str(list(pshape)) + ' != ' + str(list(qshape)))\n",
    "    \n",
    "    # Adjust dimensions of P and Q to perform smart multiplication:\n",
    "    # interweave the dimensions containing values and perform elementwise multiplication.\n",
    "    # Start with a list of ones and set dimensions as every even or uneven index.\n",
    "    pindices = [1]*2*len(pshape)    \n",
    "    pindices[::2] = pshape\n",
    "    qindices = [1]*2*len(qshape)\n",
    "    qindices[1::2] = qshape\n",
    "        \n",
    "    P = P.view(pindices)\n",
    "    Q = Q.view(qindices)\n",
    "    \n",
    "    R = P * Q\n",
    "    rshape = [p*q for p, q in zip(pshape,qshape)]\n",
    "    return R.view(rshape)"
   ]
  },
  {
   "cell_type": "markdown",
   "metadata": {},
   "source": [
    "Example:"
   ]
  },
  {
   "cell_type": "code",
   "execution_count": 140,
   "metadata": {},
   "outputs": [],
   "source": [
    "P = torch.tensor([[1, -4, 7], [-2, 3, 3]])\n",
    "Q = torch.tensor([[8, -9, -6, 5], [1, -3, -4, 7], [2, 8, -8, -3], [1, 2, -5, -1]])\n",
    "R = KronProd(P, Q)\n",
    "assert torch.all(R.eq(KronProd2D(P, Q)))"
   ]
  },
  {
   "cell_type": "markdown",
   "metadata": {},
   "source": [
    "The $\\textbf{Kahtri-Rhao product}$ is defined as\n",
    "\n",
    "\\begin{align*}\n",
    "\\boldsymbol{P}^{\\:\\mathrm{I} \\times \\mathrm{J}}|\\otimes| \\boldsymbol{Q}^{\\mathrm{K} \\times \\mathrm{J}}=\\boldsymbol{P}^{\\:\\mathrm{I} \\times \\mathrm{J}} \\odot \\boldsymbol{Q}^{\\mathrm{K} \\times \\mathrm{J}}=\\boldsymbol{R}^{\\:\\mathrm{IK} \\times \\mathrm{J}}, \\text { such that } r_{k+K(i-1), j}=p_{i j} q_{k j}\n",
    "\\end{align*}\n",
    "\n",
    "This can be seen as a column-wise kronecker product."
   ]
  },
  {
   "cell_type": "code",
   "execution_count": 207,
   "metadata": {},
   "outputs": [],
   "source": [
    "def KathRaoProd(P, Q):\n",
    "    # Register and check dimensions\n",
    "    pshape = P.shape\n",
    "    qshape = Q.shape\n",
    "    J = pshape[-1]\n",
    "    if J != qshape[-1]:\n",
    "        raise ValueError('Matrices should have the same number of columns: ' + str(J) + ' != ' + str(qshape[-1]))\n",
    "    \n",
    "    # Make R an empty tensor\n",
    "    rshape = [p*q for p, q in zip(pshape,qshape)]\n",
    "    rshape[-1] = J\n",
    "    R = torch.zeros(rshape)\n",
    "    for j in range(J):        \n",
    "        R[:,j] = KronProd(P[j], Q[j])\n",
    "        \n",
    "    .narrow(0, 0, 2)\n",
    "        \n",
    "    # Tried with slicing but did not seem to work:\n",
    "    # column_indices = list(range(J)) or slice(0,J)\n",
    "    # R[column_indices] = KronProd(P[column_indices], Q[column_indices])\n",
    "    return R\n"
   ]
  },
  {
   "cell_type": "markdown",
   "metadata": {},
   "source": [
    "Example:"
   ]
  },
  {
   "cell_type": "code",
   "execution_count": 210,
   "metadata": {},
   "outputs": [],
   "source": [
    "P = torch.tensor([[1, 2, 3], [4, 5, 6], [7, 8, 9]])\n",
    "Q = torch.tensor([[1, 4, 7], [2, 5, 8], [3, 6, 9]])\n",
    "R = KathRaoProd(P, Q)\n",
    "#print(R)"
   ]
  }
 ],
 "metadata": {
  "kernelspec": {
   "display_name": "Python 3",
   "language": "python",
   "name": "python3"
  },
  "language_info": {
   "codemirror_mode": {
    "name": "ipython",
    "version": 3
   },
   "file_extension": ".py",
   "mimetype": "text/x-python",
   "name": "python",
   "nbconvert_exporter": "python",
   "pygments_lexer": "ipython3",
   "version": "3.7.3"
  }
 },
 "nbformat": 4,
 "nbformat_minor": 2
}
