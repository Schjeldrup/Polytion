{
 "cells": [
  {
   "cell_type": "markdown",
   "metadata": {},
   "source": [
    "# Test learning capacity\n",
    "In this notebook we will test whether the generator structure can actually learn. Use a simple example from Pytorch.\n",
    "See [source](https://gist.github.com/santi-pdp/d0e9002afe74db04aa5bbff6d076e8fe).\n"
   ]
  },
  {
   "cell_type": "code",
   "execution_count": 3,
   "metadata": {},
   "outputs": [],
   "source": [
    "import torch\n",
    "import torch.nn as nn\n",
    "from torch.autograd import Variable\n",
    "\n",
    "import threading\n",
    "import logging\n",
    "log = logging.getLogger()\n",
    "log.setLevel(logging.CRITICAL)\n",
    "\n",
    "import matplotlib.pyplot as plt\n",
    "from os import system"
   ]
  },
  {
   "cell_type": "code",
   "execution_count": 4,
   "metadata": {},
   "outputs": [
    {
     "name": "stdout",
     "output_type": "stream",
     "text": [
      "torch.Size([1000, 4])\n",
      "torch.Size([1000, 1])\n"
     ]
    }
   ],
   "source": [
    "dims = 4\n",
    "samples = 500\n",
    "X1 = torch.randn(samples, dims)\n",
    "X2 = torch.randn(samples, dims) + 3\n",
    "X = torch.cat([X1, X2], dim=0)\n",
    "Y1 = torch.zeros(samples, 1)\n",
    "Y2 = torch.ones(samples, 1)\n",
    "Y = torch.cat([Y1, Y2], dim=0)\n",
    "\n",
    "print(X.size())\n",
    "print(Y.size())"
   ]
  },
  {
   "cell_type": "code",
   "execution_count": 5,
   "metadata": {},
   "outputs": [
    {
     "data": {
      "image/png": "[encoded data removed]",
      "text/plain": [
       "<Figure size 432x288 with 1 Axes>"
      ]
     },
     "metadata": {
      "needs_background": "light"
     },
     "output_type": "display_data"
    }
   ],
   "source": [
    "\n",
    "plt.scatter(X1[:, 0], X1[:, 1], color='b')\n",
    "plt.scatter(X2[:, 0], X2[:, 1], color='r')\n",
    "plt.scatter(X[:, 0], X[:, 1], color='k', s=1);"
   ]
  },
  {
   "cell_type": "code",
   "execution_count": 6,
   "metadata": {},
   "outputs": [],
   "source": [
    "import Generator as gen"
   ]
  },
  {
   "cell_type": "code",
   "execution_count": 5,
   "metadata": {},
   "outputs": [],
   "source": [
    "class FTT_Layer(torch.nn.Module):\n",
    "    def __init__(self, N, rank, imwidth, imheight, verbose = 0):\n",
    "        super(FTT_Layer, self).__init__()\n",
    "\n",
    "        # N = order of the polynomial = order of the tensor A:\n",
    "        # A is of dimension (s, s, ..., s) = (N x s)\n",
    "        # rank = rank used for the tensor cores\n",
    "        # size = length of the flattened input\n",
    "        self.N = N\n",
    "        self.rank = rank\n",
    "        self.s = imwidth * imheight\n",
    "        self.verbose = verbose\n",
    "        self.lock = threading.Lock()\n",
    "\n",
    "        # Make a list of TTcore ranks, starting from r_0 = r_N = 1: perhaps feed it in as a list? isinstance(rank, list)\n",
    "        self.ranklist = [1, 1]\n",
    "        for n in range(self.N - 1):\n",
    "            self.ranklist.insert(-1, self.rank)\n",
    "\n",
    "        # Start by making the tensor train: store the matrices in one big parameterlist\n",
    "        self.TT = torch.nn.ParameterList()\n",
    "\n",
    "        # Make s instances for every mode of the tensor, or make a 3D tensor instead:\n",
    "        for n in range(self.N):\n",
    "            # Make tensors of size (r_{k-1}, n_{k} = self.s, r_{k})\n",
    "            TTcore = torch.empty(self.ranklist[n], self.s, self.ranklist[n+1])\n",
    "            torch.nn.init.xavier_normal_(TTcore)\n",
    "            TTcore /= self.s\n",
    "            self.TT.append(torch.nn.Parameter(TTcore))\n",
    "\n",
    "        if self.verbose != 0:\n",
    "            print(\"self.ranklist =\", self.ranklist)\n",
    "            print(\"self.N =\", self.N, \"+ 1 ?=\", len(self.ranklist), \"= len(self.ranklist)\")\n",
    "            print(\"TT has\", len(self.TT), \"elements:\")\n",
    "            for i, tt in enumerate(self.TT):\n",
    "                print(\"element\", i, \":\", tt.shape)\n",
    "\n",
    "    def test(self):\n",
    "        # The multiplication z_i * G_k(i) is really [1] * [rank, rank] (or for last cart [1] * [rank, 1] )\n",
    "        # Here we test whether the vectorized multiplication yields the same result. Warning: this is slow!\n",
    "        k = 1\n",
    "        # According to the algorithm:\n",
    "        summation = 0\n",
    "        for i in range(self.s):\n",
    "            summation += self.z[i] * self.TT[k][:,i,:]\n",
    "\n",
    "        # Naive fast implmentation is: self.V[k] = self.z @ self.TT[k]. Does not yield same results.\n",
    "        # Instead, permute the axes of the train cart from [rank, s, rank] to [s, rank**2] (or [s, rank*1])\n",
    "        perm = self.TT[k].permute(1,0,2).reshape(self.s,-1)\n",
    "        product = torch.matmul(self.z, perm).reshape(self.ranklist[k], self.ranklist[k+1])\n",
    "\n",
    "        # Assert whether they are the same:\n",
    "        print(\"Are the two methods equivalent?\", torch.allclose(summation, product, rtol = 1e-03, atol = 1e-03))\n",
    "        return\n",
    "\n",
    "    def parallelVecProd(self, k):\n",
    "        d1, d2 = self.ranklist[k], self.ranklist[k+1]\n",
    "        cop = self.TT[k].clone()\n",
    "        tmp = torch.matmul(self.z, cop.permute(1,0,2).reshape(self.s, d1*d2))\n",
    "        #self.V[k,0:d1,0:d2] = tmp.reshape(d1, d2)\n",
    "        ####self.V[k] = tmp.reshape(d1, d2)\n",
    "        #with self.lock:\n",
    "        #    print('before: shape =', self.V[k,0:d1,0:d2].shape, 'version = ', self.V[k,0:d1,0:d2]._version)\n",
    "\n",
    "        with torch.no_grad():\n",
    "            self.V[k,0:d1,0:d2] = tmp.reshape(d1, d2)\n",
    "        #with self.lock:    \n",
    "        #    print('after: shape =', self.V[k,0:d1,0:d2].shape, 'version = ', self.V[k,0:d1,0:d2]._version)\n",
    "\n",
    "        return\n",
    "\n",
    "    def forward(self, z):\n",
    "        # Compute the forward pass: the nmode multiplications f = A x1 z x2 z x3 ··· x(N-1) z\n",
    "        # Follow algorithm 1: allocate space and compute each V^(k), possible in parallel with threads.\n",
    "        # V^(0) will not be used as it is unnecessary to compute it, it's just self.TT[0][0,:,:]\n",
    "        self.V = torch.empty(self.N, self.rank, self.rank) #[None] * self.N\n",
    "        #self.V = [None] * self.N\n",
    "        self.z = z\n",
    "        threads = []\n",
    "\n",
    "        if self.verbose != 0:\n",
    "            print(\"Threads are computing..\")\n",
    "            self.test()\n",
    "\n",
    "        for k in range(1, self.N):\n",
    "            # Perform parallel computation of the products: tremendous speedup. See test() for more info.\n",
    "            process = threading.Thread(target=self.parallelVecProd, args=(k,))\n",
    "            process.start()\n",
    "            threads.append(process)\n",
    "            \n",
    "        for k in range(1, self.N):\n",
    "            # Perform parallel computation of the products: tremendous speedup. See test() for more info.\n",
    "            threads[k-1].join()\n",
    "\n",
    "        # Start the whole product chain now, so that we have [(1),s,r] x [r, r] x ... x [r, (1)] = s\n",
    "        \n",
    "        #with lists:\n",
    "        #f = [self.TT[0][0,:,:]]\n",
    "        #f.append(self.TT[0][0,:,:])\n",
    "        f = self.TT[0][0,:,:]\n",
    "        for k in range(1, self.N):\n",
    "            #print(f[k-1].shape)\n",
    "            d1, d2 = self.ranklist[k], self.ranklist[k+1]\n",
    "            #threads[k-1].join()\n",
    "            extra = self.V[k,0:d1,0:d2]\n",
    "            #with self.lock:\n",
    "            #    print('declaration extra: shape =', extra.shape, 'version = ', extra._version)\n",
    "            #f @= self.V[k,0:d1,0:d2]\n",
    "            f = torch.matmul(f, extra)\n",
    "            #f.append(torch.matmul(f[k-1], self.V[k,0:d1,0:d2]))\n",
    "            #with self.lock:\n",
    "            #    print('shape =', self.V[k,0:d1,0:d2].shape, 'version = ', self.V[k,0:d1,0:d2]._version)\n",
    "                #print(self.V[k].shape)\n",
    "        out = f.reshape(-1)\n",
    "        return out\n"
   ]
  },
  {
   "cell_type": "code",
   "execution_count": 6,
   "metadata": {},
   "outputs": [],
   "source": [
    "\n",
    "class PolyNet(torch.nn.Module):\n",
    "    def __init__(self, layer, batch_size, N, rank, imwidth, imheight):\n",
    "        super(PolyNet, self).__init__()\n",
    "\n",
    "        self.batch_size = batch_size\n",
    "        self.c = 1\n",
    "        self.imwidth, self.imheight = imwidth, imheight\n",
    "        self.s = imwidth*imheight\n",
    "        self.PolyLayer = layer(N, rank, imwidth, imheight, 0)\n",
    "        self.SM = nn.Sigmoid()\n",
    "        \n",
    "    def forward(self, x):\n",
    "        # Register x as attribute for parallel access\n",
    "        self.x = x.clone()\n",
    "        \n",
    "        #print('x.shape = ', x.shape)\n",
    "        self.x = self.x.reshape(self.batch_size, self.c, self.s) # flatten to the 1D equivalent vector\n",
    "\n",
    "        # Start threads\n",
    "        threads = []\n",
    "        for batch in range(self.batch_size):\n",
    "            #print('x.shape = ', x.shape)\n",
    "            self.x[batch, self.c-1, :] = self.PolyLayer(self.x[batch, self.c-1, :])\n",
    "            \n",
    "        self.x = self.x.reshape(self.batch_size, -1)\n",
    "        self.x = self.x.sum(1)\n",
    "        #self.x = self.x.reshape(self.batch_size, self.c, self.imwidth, self.imheight)\n",
    "        return self.SM(self.x)\n"
   ]
  },
  {
   "cell_type": "code",
   "execution_count": 7,
   "metadata": {},
   "outputs": [],
   "source": [
    "# Make the 'generator' network: in this case to be used as a feed forward network\n",
    "batch_size = 100\n",
    "N = 6\n",
    "rank = 7\n",
    "imwidth, imheight = int(dims/2), int(dims/2)\n",
    "\n",
    "#net = gen.Generator(gen.FTT_Layer, batch_size, N, rank, imwidth, imheight, 1)\n",
    "net = PolyNet(FTT_Layer, batch_size, N, rank, imwidth, imheight)\n",
    "\n",
    "#opt = torch.optim.Adam(net.parameters(), lr=0.1)\n",
    "opt = torch.optim.Adadelta(net.parameters(), lr=0.5, rho=0.9, eps=1e-03, weight_decay=0.001)\n",
    "#opt = torch.optim.SGD(net.parameters(), lr=0.01)\n",
    "\n",
    "criterion = nn.BCELoss()\n",
    "#criterion = nn.CrossEntropyLoss()\n"
   ]
  },
  {
   "cell_type": "code",
   "execution_count": 8,
   "metadata": {},
   "outputs": [],
   "source": [
    "def train_epoch(model, opt, criterion, batch_size=50):\n",
    "    model.train()\n",
    "    losses = []\n",
    "    for beg_i in range(0, X.size(0), batch_size):\n",
    "        x_batch = X[beg_i:beg_i + batch_size, :].reshape(batch_size, 1, imwidth, imheight)\n",
    "        y_batch = Y[beg_i:beg_i + batch_size, :]\n",
    "\n",
    "        #x_batch = Variable(x_batch, requires_grad=True)\n",
    "        x_batch = Variable(x_batch)\n",
    "        y_batch = Variable(y_batch)\n",
    "        \n",
    "        opt.zero_grad()\n",
    "        # (1) Forward\n",
    "        y_hat = net(x_batch)\n",
    "        #y_hat = torch.sigmoid(y_hat)\n",
    "        y_batch = y_batch[:, 0]\n",
    "        # (2) Compute diff\n",
    "        loss = criterion(y_hat, y_batch)\n",
    "        # (3) Compute gradients\n",
    "        loss.backward()\n",
    "        # (4) update weights\n",
    "        opt.step()        \n",
    "        losses.append(loss.data.numpy())\n",
    "    return losses"
   ]
  },
  {
   "cell_type": "code",
   "execution_count": 9,
   "metadata": {},
   "outputs": [
    {
     "ename": "NameError",
     "evalue": "name 'e_losses' is not defined",
     "output_type": "error",
     "traceback": [
      "\u001b[0;31m---------------------------------------------------------------------------\u001b[0m",
      "\u001b[0;31mNameError\u001b[0m                                 Traceback (most recent call last)",
      "\u001b[0;32m<ipython-input-9-dec5572ba434>\u001b[0m in \u001b[0;36m<module>\u001b[0;34m\u001b[0m\n\u001b[0;32m----> 1\u001b[0;31m \u001b[0mprint\u001b[0m\u001b[0;34m(\u001b[0m\u001b[0me_losses\u001b[0m\u001b[0;34m[\u001b[0m\u001b[0;34m-\u001b[0m\u001b[0;36m11\u001b[0m\u001b[0;34m:\u001b[0m\u001b[0;34m-\u001b[0m\u001b[0;36m1\u001b[0m\u001b[0;34m]\u001b[0m\u001b[0;34m)\u001b[0m\u001b[0;34m\u001b[0m\u001b[0;34m\u001b[0m\u001b[0m\n\u001b[0m",
      "\u001b[0;31mNameError\u001b[0m: name 'e_losses' is not defined"
     ]
    }
   ],
   "source": [
    "print(e_losses[-11:-1])"
   ]
  },
  {
   "cell_type": "code",
   "execution_count": null,
   "metadata": {},
   "outputs": [],
   "source": [
    "e_losses = []\n",
    "num_epochs = 30\n",
    "for e in range(num_epochs):\n",
    "    print(\"epoch\", e+1, end='\\r')\n",
    "    e_losses += train_epoch(net, opt, criterion, batch_size)\n",
    "plt.plot(e_losses);\n",
    "\n",
    "system('say Training complete')"
   ]
  },
  {
   "cell_type": "code",
   "execution_count": null,
   "metadata": {},
   "outputs": [],
   "source": [
    "X_t = torch.cat([torch.randn(samples, dims), torch.randn(samples, dims) + 3], dim=0)\n",
    "plt.scatter(X_t[:, 0], X_t[:, 1], color='k', s=1);"
   ]
  },
  {
   "cell_type": "code",
   "execution_count": null,
   "metadata": {},
   "outputs": [],
   "source": [
    "net.eval()\n",
    "results = torch.zeros(X_t.shape[0])\n",
    "for beg_i in range(0, X_t.size(0), batch_size):\n",
    "    x_batch = X_t[beg_i:beg_i + batch_size, :].reshape(batch_size, 1, imwidth, imheight)\n",
    "    results[beg_i:beg_i + batch_size] = net(x_batch)\n",
    "    \n",
    "results = torch.round(results)\n"
   ]
  },
  {
   "cell_type": "code",
   "execution_count": null,
   "metadata": {},
   "outputs": [],
   "source": [
    "X1_t = torch.where(results == 0)[0]\n",
    "X2_t = torch.where(results == 1)[0]\n",
    "print(X_t.shape)"
   ]
  },
  {
   "cell_type": "code",
   "execution_count": null,
   "metadata": {},
   "outputs": [],
   "source": [
    "Xd = X_t.detach().numpy()\n",
    "plt.scatter(Xd[X1_t, 0], Xd[X1_t, 1], color='b')\n",
    "plt.scatter(Xd[X2_t, 0], Xd[X2_t, 1], color='r')\n",
    "plt.scatter(Xd[:, 0], Xd[:, 1], color='k', s=1);\n"
   ]
  }
 ],
 "metadata": {
  "kernelspec": {
   "display_name": "Python 3",
   "language": "python",
   "name": "python3"
  },
  "language_info": {
   "codemirror_mode": {
    "name": "ipython",
    "version": 3
   },
   "file_extension": ".py",
   "mimetype": "text/x-python",
   "name": "python",
   "nbconvert_exporter": "python",
   "pygments_lexer": "ipython3",
   "version": "3.7.3"
  }
 },
 "nbformat": 4,
 "nbformat_minor": 2
}
