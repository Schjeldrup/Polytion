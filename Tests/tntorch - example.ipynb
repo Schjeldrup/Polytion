{
 "cells": [
  {
   "cell_type": "code",
   "execution_count": 2,
   "metadata": {},
   "outputs": [],
   "source": [
    "import torch\n",
    "torch.set_default_dtype(torch.float64)\n",
    "import tntorch as tn\n",
    "import matplotlib.pyplot as plt\n",
    "import numpy as np"
   ]
  },
  {
   "cell_type": "markdown",
   "metadata": {},
   "source": [
    "## tntorch: tensor decomposition"
   ]
  },
  {
   "cell_type": "code",
   "execution_count": 3,
   "metadata": {},
   "outputs": [
    {
     "data": {
      "text/plain": [
       "torch.Size([128, 128, 128])"
      ]
     },
     "execution_count": 3,
     "metadata": {},
     "output_type": "execute_result"
    }
   ],
   "source": [
    "randT = np.random.randint(0, 100, size=(128, 128, 128))\n",
    "\n",
    "#conver to tensor \n",
    "fullT = torch.Tensor(randT)\n",
    "fullT.shape"
   ]
  },
  {
   "cell_type": "code",
   "execution_count": 4,
   "metadata": {},
   "outputs": [],
   "source": [
    "def describe(decomposed, fullT):\n",
    "    print(decomposed)\n",
    "    print('Original tensor elements:',fullT.numel())\n",
    "    print('Decomposed tensor elements:',decomposed.numcoef())\n",
    "    print('Compression ratio: {}/{} = {:g}'.format(fullT.numel(), decomposed.numcoef(), fullT.numel() / decomposed.numcoef()))\n",
    "    print('Relative error:', tn.relative_error(fullT, decomposed))\n",
    "    print('RMSE:', tn.rmse(fullT, decomposed))\n",
    "    print('R^2:', tn.r_squared(fullT, decomposed))"
   ]
  },
  {
   "cell_type": "markdown",
   "metadata": {},
   "source": [
    "### TTD "
   ]
  },
  {
   "cell_type": "code",
   "execution_count": 5,
   "metadata": {},
   "outputs": [
    {
     "name": "stdout",
     "output_type": "stream",
     "text": [
      "3D TT tensor:\n",
      "\n",
      " 128 128 128\n",
      "  |   |   |\n",
      " (0) (1) (2)\n",
      " / \\ / \\ / \\\n",
      "1   3   3   1\n",
      "\n",
      "Original tensor elements: 2097152\n",
      "Decomposed tensor elements: 1920\n",
      "Compression ratio: 2097152/1920 = 1092.27\n",
      "Relative error: tensor(0.5039)\n",
      "RMSE: tensor(28.8620)\n",
      "R^2: tensor(0.0013)\n"
     ]
    }
   ],
   "source": [
    "#decompose\n",
    "ttdT = tn.Tensor(fullT, ranks_tt=3)\n",
    "describe(ttdT,fullT)"
   ]
  },
  {
   "cell_type": "markdown",
   "metadata": {},
   "source": [
    "## CPD"
   ]
  },
  {
   "cell_type": "code",
   "execution_count": 6,
   "metadata": {},
   "outputs": [
    {
     "name": "stdout",
     "output_type": "stream",
     "text": [
      "ALS -- initialization time = 0.07799959182739258\n",
      "iter: 0  | eps: 0.50389461 | total time:    0.1530\n",
      "iter: 1  | eps: 0.50378534 | total time:    0.2180\n",
      "iter: 2  | eps: 0.50373994 | total time:    0.2970 <- converged (tol=0.0001)\n",
      "3D CP tensor:\n",
      "\n",
      " 128 128 128\n",
      "  |   |   |\n",
      " <0> <1> <2>\n",
      " / \\ / \\ / \\\n",
      "6   6   6   6\n",
      "\n",
      "Original tensor elements: 2097152\n",
      "Decomposed tensor elements: 2304\n",
      "Compression ratio: 2097152/2304 = 910.222\n",
      "Relative error: tensor(0.5037)\n",
      "RMSE: tensor(28.8532)\n",
      "R^2: tensor(0.0019)\n"
     ]
    }
   ],
   "source": [
    "cpdT = tn.Tensor(fullT, ranks_cp=6, verbose=True)\n",
    "describe(cpdT, fullT)"
   ]
  },
  {
   "cell_type": "code",
   "execution_count": 7,
   "metadata": {},
   "outputs": [
    {
     "name": "stdout",
     "output_type": "stream",
     "text": [
      "tensor(32.0787)\n",
      "tensor(29.0305)\n",
      "tensor(30.6270)\n"
     ]
    }
   ],
   "source": [
    "#test norms\n",
    "orig = torch.rand(10,15,20)\n",
    "\n",
    "cpdT = tn.Tensor(orig, ranks_cp=10)\n",
    "test1 = cpdT.torch()\n",
    "\n",
    "ttdT = tn.Tensor(orig, ranks_tt=10)\n",
    "test2 = ttdT.torch()\n",
    "\n",
    "print(torch.norm(orig))\n",
    "print(torch.norm(test1))\n",
    "print(torch.norm(test2))"
   ]
  },
  {
   "cell_type": "markdown",
   "metadata": {},
   "source": [
    "## Compressing & decompressing an image using TTD"
   ]
  },
  {
   "cell_type": "code",
   "execution_count": 8,
   "metadata": {},
   "outputs": [
    {
     "data": {
      "image/png": "[encoded data removed]",
      "text/plain": [
       "<Figure size 432x288 with 1 Axes>"
      ]
     },
     "metadata": {},
     "output_type": "display_data"
    },
    {
     "name": "stdout",
     "output_type": "stream",
     "text": [
      "2D TT tensor:\n",
      "\n",
      " 63  184\n",
      "  |   |\n",
      " (0) (1)\n",
      " / \\ / \\\n",
      "1   10  1\n",
      "\n",
      "iter: 0       | loss: 197.937746 | total time:    0.0095\n",
      "iter: 500     | loss:  29.722131 | total time:    1.7274\n",
      "iter: 1000    | loss:  19.231694 | total time:    2.9394\n",
      "iter: 1500    | loss:   8.330698 | total time:    4.0369\n",
      "iter: 2000    | loss:   4.351355 | total time:    5.1291\n",
      "iter: 2500    | loss:   2.933643 | total time:    6.3137\n",
      "iter: 2788    | loss:   2.693346 | total time:    7.0017 <- converged (tol=0.0001)\n"
     ]
    },
    {
     "data": {
      "image/png": "[encoded data removed]",
      "text/plain": [
       "<Figure size 432x288 with 1 Axes>"
      ]
     },
     "metadata": {},
     "output_type": "display_data"
    }
   ],
   "source": [
    "im = torch.DoubleTensor(plt.imread('tntorch/images/text.png'))\n",
    "plt.imshow(im.numpy(), cmap='gray')\n",
    "plt.show()\n",
    "\n",
    "#TTD\n",
    "t = tn.rand(im.shape, ranks_tt=10, requires_grad=True)\n",
    "print(t)\n",
    "\n",
    "def loss(t):\n",
    "    return tn.dist(t, im)  # Equivalent to torch.norm(t.torch() - im)\n",
    "\n",
    "tn.optimize(t, loss)\n",
    "\n",
    "# restore image from ttd representation\n",
    "final_img = t.numpy()\n",
    "plt.imshow(final_img, cmap='gray', vmin=im.min(), vmax=im.max())\n",
    "plt.show()"
   ]
  },
  {
   "cell_type": "markdown",
   "metadata": {},
   "source": [
    "## Tensor completion"
   ]
  },
  {
   "cell_type": "code",
   "execution_count": 9,
   "metadata": {},
   "outputs": [
    {
     "name": "stdout",
     "output_type": "stream",
     "text": [
      "We will keep 2898 out of 11592 pixels\n"
     ]
    }
   ],
   "source": [
    "P = im.shape[0]*im.shape[1]\n",
    "Q = int(P/4)\n",
    "print('We will keep {} out of {} pixels'.format(Q, P))\n",
    "X = np.unravel_index(np.random.choice(P, Q), im.shape)  # Coordinates of surviving pixels\n",
    "y = torch.Tensor(im[X])  # Grayscale values of surviving pixels"
   ]
  },
  {
   "cell_type": "code",
   "execution_count": 10,
   "metadata": {},
   "outputs": [
    {
     "data": {
      "image/png": "[encoded data removed]",
      "text/plain": [
       "<Figure size 432x288 with 1 Axes>"
      ]
     },
     "metadata": {},
     "output_type": "display_data"
    }
   ],
   "source": [
    "mask = np.ones([im.shape[0], im.shape[1]])\n",
    "mask[X] = y\n",
    "plt.imshow(mask, cmap='gray', vmin=im.min(), vmax=im.max())\n",
    "plt.show()"
   ]
  },
  {
   "cell_type": "code",
   "execution_count": 11,
   "metadata": {},
   "outputs": [
    {
     "name": "stdout",
     "output_type": "stream",
     "text": [
      "iter: 0       | loss:   1.045079 | total time:    0.0080\n",
      "iter: 500     | loss:   0.242116 | total time:    2.8311\n",
      "iter: 1000    | loss:   0.152270 | total time:    4.8077\n",
      "iter: 1500    | loss:   0.082828 | total time:    6.5693\n",
      "iter: 2000    | loss:   0.055558 | total time:    8.2923\n",
      "iter: 2500    | loss:   0.043802 | total time:   10.0202\n",
      "iter: 3000    | loss:   0.034887 | total time:   11.7313\n",
      "iter: 3500    | loss:   0.028529 | total time:   13.4816\n",
      "iter: 4000    | loss:   0.024333 | total time:   16.4528\n",
      "iter: 4500    | loss:   0.022477 | total time:   18.9972\n",
      "iter: 5000    | loss:   0.020905 | total time:   21.4952\n",
      "iter: 5500    | loss:   0.018828 | total time:   23.9437\n",
      "iter: 5666    | loss:   0.018454 | total time:   24.6314 <- converged (tol=0.0001)\n"
     ]
    },
    {
     "data": {
      "image/png": "[encoded data removed]",
      "text/plain": [
       "<Figure size 432x288 with 1 Axes>"
      ]
     },
     "metadata": {},
     "output_type": "display_data"
    }
   ],
   "source": [
    "t = tn.rand(im.shape, ranks_tt=6, requires_grad=True)\n",
    "\n",
    "def loss(t):\n",
    "    return tn.relative_error(y, t[X])\n",
    "tn.optimize(t, loss)\n",
    "\n",
    "plt.imshow(t.numpy(), cmap='gray', vmin=im.min(), vmax=im.max())\n",
    "plt.show()"
   ]
  }
 ],
 "metadata": {
  "kernelspec": {
   "display_name": "Python 3",
   "language": "python",
   "name": "python3"
  },
  "language_info": {
   "codemirror_mode": {
    "name": "ipython",
    "version": 3
   },
   "file_extension": ".py",
   "mimetype": "text/x-python",
   "name": "python",
   "nbconvert_exporter": "python",
   "pygments_lexer": "ipython3",
   "version": "3.6.5"
  }
 },
 "nbformat": 4,
 "nbformat_minor": 2
}
