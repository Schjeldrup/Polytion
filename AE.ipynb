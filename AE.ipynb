{
 "cells": [
  {
   "cell_type": "code",
   "execution_count": 1,
   "metadata": {},
   "outputs": [],
   "source": [
    "import torch\n",
    "import torch.nn as nn\n",
    "from torch.autograd import Variable\n",
    "from torch.utils.data import DataLoader\n",
    "from torch.nn.functional import interpolate\n",
    "\n",
    "import matplotlib.pyplot as plt\n",
    "import numpy as np  \n",
    "\n",
    "import Discriminator as disc\n",
    "import Generator as gen\n",
    "import SequentialGenerator as sg1\n",
    "import prepData as prep"
   ]
  },
  {
   "cell_type": "markdown",
   "metadata": {},
   "source": [
    "# AutoEncoder fuuuu\n",
    "Encoder\n",
    "- input: 128 x 128\n",
    "- output: 64 x 64 (or 32?)\n",
    "\n",
    "Decoder\n",
    "- input:  64 x 64\n",
    "- output: 512 x 512 (or 32?)\n",
    "\n",
    "**Work in progress**\n",
    "Decoder ends up zeroing out the image somewhere after upscaling everytime."
   ]
  },
  {
   "cell_type": "code",
   "execution_count": 28,
   "metadata": {},
   "outputs": [],
   "source": [
    "batch_size = 5\n",
    "N = 5\n",
    "rank = 5\n",
    "\n",
    "LR_dim = 128\n",
    "HR_dim = 512\n",
    "bottleneck_dim = 32\n",
    "\n",
    "\n",
    "scalefactor = HR_dim/bottleneck_dim\n",
    "downscalefactor = bottleneck_dim/LR_dim"
   ]
  },
  {
   "cell_type": "markdown",
   "metadata": {},
   "source": [
    "### Load data"
   ]
  },
  {
   "cell_type": "code",
   "execution_count": 31,
   "metadata": {},
   "outputs": [],
   "source": [
    "images=prep.load_images_from_folder('000001_01_01')\n",
    "images=prep.normalize(images)\n",
    "lowresimages=prep.compress_images(images)"
   ]
  },
  {
   "cell_type": "code",
   "execution_count": 41,
   "metadata": {},
   "outputs": [
    {
     "data": {
      "text/plain": [
       "107"
      ]
     },
     "execution_count": 41,
     "metadata": {},
     "output_type": "execute_result"
    }
   ],
   "source": [
    "len(images)"
   ]
  },
  {
   "cell_type": "code",
   "execution_count": 33,
   "metadata": {},
   "outputs": [
    {
     "data": {
      "image/png": "[encoded data removed]",
      "text/plain": [
       "<Figure size 432x288 with 1 Axes>"
      ]
     },
     "metadata": {},
     "output_type": "display_data"
    }
   ],
   "source": [
    "prep.show_img(lowresimages[19])"
   ]
  },
  {
   "cell_type": "code",
   "execution_count": 42,
   "metadata": {},
   "outputs": [],
   "source": [
    "LR_loader = DataLoader(lowresimages[:20], batch_size=batch_size)#, pin_memory=cuda)\n",
    "HR_loader = DataLoader(images[:20],batch_size=batch_size)#, pin_memory=cuda)\n",
    "\n",
    "test_LR_loader = DataLoader(lowresimages[:-10], batch_size=batch_size)#, pin_memory=cuda)"
   ]
  },
  {
   "cell_type": "markdown",
   "metadata": {},
   "source": [
    "### Model"
   ]
  },
  {
   "cell_type": "code",
   "execution_count": 45,
   "metadata": {},
   "outputs": [],
   "source": [
    "class Autoencoder(torch.nn.Module):\n",
    "    def __init__(self, layer):\n",
    "        super(Autoencoder,self).__init__()\n",
    "\n",
    "        self.encoder = gen.Generator(layer, N, rank, bottleneck_dim, bottleneck_dim, downscalefactor)\n",
    "        self.decoder = gen.Generator(layer, N, rank, HR_dim, HR_dim, scalefactor)\n",
    "\n",
    "    def forward(self, x):\n",
    "        #print(\"Input shape = \", x.shape)\n",
    "        #print(x.sum())\n",
    "        x = self.encoder(x.float())\n",
    "        #print(\"After encoder shape = \", x.shape)\n",
    "        #print(x.sum())\n",
    "        x = self.decoder(x)\n",
    "        print(\"After decoder shape = \", x.shape)\n",
    "        print(x.sum())\n",
    "        return x"
   ]
  },
  {
   "cell_type": "code",
   "execution_count": 46,
   "metadata": {},
   "outputs": [],
   "source": [
    "model = Autoencoder(gen.FTT_Layer)#.to(device)\n",
    "loss_func = torch.nn.MSELoss()\n",
    "optimizer = torch.optim.Adam(model.parameters(), lr=0.05) #weight_decay=1e-5,)"
   ]
  },
  {
   "cell_type": "markdown",
   "metadata": {},
   "source": [
    "### Training"
   ]
  },
  {
   "cell_type": "code",
   "execution_count": 48,
   "metadata": {},
   "outputs": [
    {
     "name": "stdout",
     "output_type": "stream",
     "text": [
      "After decoder shape =  torch.Size([5, 1, 512, 512])\n",
      "tensor(0., grad_fn=<SumBackward0>)\n",
      "After decoder shape =  torch.Size([5, 1, 512, 512])\n",
      "tensor(0., grad_fn=<SumBackward0>)\n",
      "After decoder shape =  torch.Size([5, 1, 512, 512])\n",
      "tensor(0., grad_fn=<SumBackward0>)\n",
      "After decoder shape =  torch.Size([5, 1, 512, 512])\n",
      "tensor(0., grad_fn=<SumBackward0>)\n",
      "completed epoch 1, mean loss 0.00564929936081171\n",
      "After decoder shape =  torch.Size([5, 1, 512, 512])\n",
      "tensor(0., grad_fn=<SumBackward0>)\n",
      "After decoder shape =  torch.Size([5, 1, 512, 512])\n",
      "tensor(0., grad_fn=<SumBackward0>)\n",
      "After decoder shape =  torch.Size([5, 1, 512, 512])\n",
      "tensor(0., grad_fn=<SumBackward0>)\n",
      "After decoder shape =  torch.Size([5, 1, 512, 512])\n",
      "tensor(0., grad_fn=<SumBackward0>)\n",
      "completed epoch 2, mean loss 0.00564929936081171\n"
     ]
    }
   ],
   "source": [
    "epoch_loss = []\n",
    "num_epochs = 2\n",
    "\n",
    "model.train()\n",
    "for epoch in range(num_epochs):\n",
    "    model.train()\n",
    "    #for img in LR_loader:\n",
    "    for i, data in enumerate(zip(LR_loader, HR_loader)):\n",
    "        batch_loss = []\n",
    "        lr_img, hr_img = data\n",
    "        #print(lr_img[0].sum())\n",
    "        \n",
    "        img = Variable(lr_img.reshape(lr_img.shape[0], 1, LR_dim, LR_dim)).float()#.to(device)\n",
    "        output = model(img).float()\n",
    "        #print(output.sum())\n",
    "\n",
    "        hr_img = hr_img.reshape(hr_img.shape[0], 1, HR_dim, HR_dim).float()#.to(device)\n",
    "        \n",
    "        loss = loss_func(output, hr_img).float()\n",
    "        optimizer.zero_grad()\n",
    "        loss.backward()\n",
    "        optimizer.step()\n",
    "        batch_loss.append(loss.item())\n",
    "        \n",
    "    epoch_loss.append(np.mean(batch_loss))\n",
    "    print(\"completed epoch {}, mean loss {}\".format(epoch+1,np.mean(batch_loss)))"
   ]
  },
  {
   "cell_type": "code",
   "execution_count": 49,
   "metadata": {},
   "outputs": [
    {
     "data": {
      "image/png": "[encoded data removed]",
      "text/plain": [
       "<Figure size 432x288 with 1 Axes>"
      ]
     },
     "metadata": {},
     "output_type": "display_data"
    }
   ],
   "source": [
    "plt.plot(epoch_loss)\n",
    "plt.show()"
   ]
  },
  {
   "cell_type": "markdown",
   "metadata": {},
   "source": [
    "### Run test image through model"
   ]
  },
  {
   "cell_type": "code",
   "execution_count": 44,
   "metadata": {},
   "outputs": [
    {
     "name": "stdout",
     "output_type": "stream",
     "text": [
      "tensor(0., grad_fn=<SumBackward0>)\n"
     ]
    },
    {
     "data": {
      "image/png": "[encoded data removed]",
      "text/plain": [
       "<Figure size 432x288 with 1 Axes>"
      ]
     },
     "metadata": {},
     "output_type": "display_data"
    }
   ],
   "source": [
    "for img in test_LR_loader:\n",
    "    img = Variable(img.reshape(img.shape[0], 1, LR_dim, LR_dim)).float()\n",
    "    prep.show_img(model(img).detach().numpy()[0][0])\n",
    "    break"
   ]
  }
 ],
 "metadata": {
  "kernelspec": {
   "display_name": "Python 3",
   "language": "python",
   "name": "python3"
  },
  "language_info": {
   "codemirror_mode": {
    "name": "ipython",
    "version": 3
   },
   "file_extension": ".py",
   "mimetype": "text/x-python",
   "name": "python",
   "nbconvert_exporter": "python",
   "pygments_lexer": "ipython3",
   "version": "3.6.5"
  }
 },
 "nbformat": 4,
 "nbformat_minor": 2
}
